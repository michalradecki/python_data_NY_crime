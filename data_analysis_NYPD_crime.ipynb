{
 "cells": [
  {
   "cell_type": "markdown",
   "metadata": {},
   "source": [
    "- [ ] CMPLNT_NUM -> unikalny numer dla każdego przestępstwa \n",
    "- [ ] ADDR_PCT_CD -> 77 police precincts, podzielone na dzielnice (https://www1.nyc.gov/site/nypd/bureaus/patrol/precincts-landing.page)\n",
    "- [ ] BORO_NM -> nazwa dzielnicy gdzie wydarzył się incydent\n",
    "- [ ] CMPLNT_FR_DT -> data wystąpienia przestępstwa\n",
    "- [ ] CMPLNT_FR_TM -> godzina wystąpienia przestępstwa\n",
    "- [ ] CMPLNT_TO_DT -> koniec wydarzenia\n",
    "- [ ] CMPLNT_TO_TM -> koniec wydarzenia godzina\n",
    "- [ ] CRM_ATPT_CPTD_CD -> znacznik czy zostało rozwiązane śledztwo \n",
    "- [ ] HADEVELOPT -> czy dana osoba pochodzi z housing development dla biedniejszych \n",
    "- [ ] HOUSING_PSA -> id housing development\n",
    "- [ ] JURISDICTION_CODE -> do kogo nalezy przstepstwo\n",
    "- [ ] JURIS_DESC -> do kogo nalezy przstepstwo\n",
    "- [ ] KY_CD\n",
    "- [ ] LAW_CAT_CD -> Level of offense: felony, misdemeanor, violation\n",
    "- [ ] LOC_OF_OCCUR_DESC -> Specific location of occurrence in or around the premises; inside, opposite of, front of, rear of\n",
    "- [ ] OFNS_DESC -> opis korespondujący z KY_CD kodem\n",
    "- [ ] PARKS_NM -> nazwy miejsc gdzie się wydarzyły \n",
    "- [ ] PATROL_BORO -> patrol patrolujący \n",
    "- [ ] PD_CD -> bardzije 'ziarnisty' kod opisujący przestępstwo \n",
    "- [ ] PD_DESC -> bardzije 'ziarnisty' kod opisujący przestępstwo \n",
    "- [ ] PREM_TYP_DESC -> dokłądny rodzaj miejsca dokonania przestępstwa (może się łączyć spoko z LOC_OF_OCCUR_DESC, albo wykluczać tą zmienną)\n",
    "- [ ] RPT_DT -> data zgłoszenia na policje \n",
    "- [ ] STATION_NAME -> komisariat gdzie zgłoszono przestępstwo \n",
    "- [ ] SUSP_AGE_GROUP -> grupa wiekowa podejrzanego \n",
    "- [ ] SUSP_RACE -> rasa podejrzanego \n",
    "- [ ] SUSP_SEX -> płeć podejrzanego \n",
    "- [ ] TRANSIT_DISTRICT \n",
    "- [ ] VIC_AGE_GROUP -> grupa wiekowa ofiary \n",
    "- [ ] VIC_RACE -> rasa ofiary \n",
    "- [ ] VIC_SEX -> płeć ofiary, Victim’s Sex Description (D=Business/Organization, E=PSNY/People of the State of New York, F=Female, M=Male)\n",
    "- [ ] X_COORD_CD -> dane geo \n",
    "- [ ] Y_COORD_CD -> dane geo \n",
    "- [ ] Latitude -> dane geo \n",
    "- [ ] Longitude -> dane geo\n",
    "- [ ] Lat_Lon -> dane geo"
   ]
  },
  {
   "cell_type": "markdown",
   "metadata": {},
   "source": [
    "##### Aim of the project is to find patterns in data which will help NY police to optimize their efforts"
   ]
  },
  {
   "cell_type": "markdown",
   "metadata": {},
   "source": [
    "### TO DO (CZYSZCZENIE):\n",
    "- dorobić kolummny  time_span from crime to report\n",
    "- przerobić opisy danych na nowe nazwy"
   ]
  },
  {
   "cell_type": "markdown",
   "metadata": {},
   "source": [
    "### TO DO (POMYSŁY):\n",
    "- nan przy danych przestępcy mogą być same w sobie informacja, warto sprwawdzić przy jaki przestępstwach wsytępują \n",
    "- czy w cieplejszyche misiacach wicej drobnych kradziży w stosunku do reszty? - napływ turystów do NY\n",
    "- potrzebuje danych o ludności dzielnic aby przeliczyc dane w przestępstwach na osobe "
   ]
  },
  {
   "cell_type": "markdown",
   "metadata": {},
   "source": [
    "### TO DO (WIZUALIZACJE):\n",
    "- według dni ilość przestępstw \n",
    "- według dzielnic\n",
    "- przypadki na mapie \n",
    "- jakie rodzaje przestępstw sa najcześciej nierozwiazywalne"
   ]
  },
  {
   "cell_type": "code",
   "execution_count": 3,
   "metadata": {},
   "outputs": [],
   "source": [
    "import numpy as np\n",
    "import pandas as pd\n",
    "import matplotlib.pyplot as plt\n",
    "import datetime\n",
    "pd.set_option('display.max_columns',30)"
   ]
  },
  {
   "cell_type": "markdown",
   "metadata": {},
   "source": [
    "## Loading and cleaning data"
   ]
  },
  {
   "cell_type": "code",
   "execution_count": 4,
   "metadata": {
    "scrolled": false
   },
   "outputs": [],
   "source": [
    "df = pd.read_excel(\"data.xlsx\")"
   ]
  },
  {
   "cell_type": "code",
   "execution_count": 5,
   "metadata": {},
   "outputs": [],
   "source": [
    "#cleaning data and preparing it for analysis\n",
    "columns=['JURISDICTION_CODE', 'JURIS_DESC', 'KY_CD', 'PATROL_BORO', 'PD_CD', 'TRANSIT_DISTRICT', 'CMPLNT_NUM', \n",
    "         'CMPLNT_TO_DT', 'CMPLNT_TO_TM', 'X_COORD_CD', 'Y_COORD_CD']\n",
    "\n",
    "to_del_susp_age_group = [-965,-966, -964, -973, -968, -64, 930, -1, -80, 947, 929, 1019, 940, 2019, 924]\n",
    "to_del_vic_age_group = [-961, -952, 936, -71, -943, 956, -50, 941, -942, -39, 1013, -69, -67, 937, -946, -974, 951, 960, \n",
    "                        927, -2,938, -934, -978, -970, -56, -954, 943, 929, -967, 1018, -948]\n",
    "\n",
    "#deleting columns\n",
    "df.drop(columns=columns, inplace=True)\n",
    "\n",
    "#changing values for boolean\n",
    "df['CRM_ATPT_CPTD_CD'].replace({'COMPLETED':1, 'ATTEMPTED':0}, inplace=True)\n",
    "\n",
    "#deleting wrong values from susp_age_group and vic_age_group columns\n",
    "\n",
    "for x in to_del_susp_age_group:\n",
    "    filt = df['SUSP_AGE_GROUP'] == x\n",
    "    df.drop(index = df[filt].index, inplace=True)\n",
    "    \n",
    "for x in to_del_vic_age_group:\n",
    "    filt = df['VIC_AGE_GROUP'] == x\n",
    "    df.drop(index = df[filt].index, inplace=True)\n",
    "\n",
    "#usunięcie wartości Nan z boro_nm i ofns_desc\n",
    "df = df[~df['BORO_NM'].isnull()]\n",
    "df = df[~df['VIC_AGE_GROUP'].isnull()]\n",
    "df.dropna(how='any', subset=['OFNS_DESC', 'PREM_TYP_DESC'], inplace=True)\n",
    "\n",
    "#changin and unifying values\n",
    "df[\"SUSP_AGE_GROUP\"].replace( np.nan, 'UNKNOWN', inplace=True)\n",
    "df['SUSP_RACE'].replace(np.nan, 'UNKNOWN', inplace=True)\n",
    "df['SUSP_SEX'].replace('U', 'UNKNOWN', inplace=True)\n",
    "\n",
    "#changing type of data of columns with dates\n",
    "date_columns = ['CMPLNT_FR_DT', 'RPT_DT']\n",
    "\n",
    "for x in date_columns:\n",
    "    df[x] = df[x].map(lambda x: datetime.datetime.strptime(x, '%m/%d/%Y'))\n",
    "    df[x] = df[x].map(lambda x: x.date())\n",
    "\n",
    "df['crime_day'] = df['CMPLNT_FR_DT'].map(lambda x: x.isoweekday())\n",
    "df['crime_month'] = df['CMPLNT_FR_DT'].map(lambda x: x.month)\n",
    "#df['time_span'] = pd.to_datetime(df['notification_date']) - pd.to_datetime(df['crime_day'])\n",
    "    \n",
    "df.columns = [x.lower() for x in df.columns]"
   ]
  },
  {
   "cell_type": "code",
   "execution_count": 6,
   "metadata": {},
   "outputs": [
    {
     "data": {
      "text/plain": [
       "\"\\ndf = df['district', 'crime_date', 'crime_time', 'crime_day', 'crime_month', 'notification_date', 'time_span', \\n       'case_solved', 'ofns_level', 'loc_of_occur_desc', 'ofns_desc', 'parks_nm', \\n       'detail_ofns_desc', 'prem_typ_desc', 'susp_age_group', 'susp_race', 'susp_sex', 'vic_age_group', \\n       'vic_race', 'vic_sex', 'latitude', 'longitude', 'lat_lon', 'police_precincts', 'housing_dev_name', \\n        'id_housing_dev', 'notification_station_name']\""
      ]
     },
     "execution_count": 6,
     "metadata": {},
     "output_type": "execute_result"
    }
   ],
   "source": [
    "#changing columns names for simpler and more unambiguous and reordering them\n",
    "df.rename(columns={\"cmplnt_num\":'case_id', 'addr_pct_cd':'police_precincts', 'boro_nm':'district', \n",
    "                   'cmplnt_fr_dt':'crime_date', 'cmplnt_fr_tm':'crime_time','cmplnt_to_dt':'end_crime_date', \n",
    "                   'cmplnt_to_tm':'end_crime_time', 'crm_atpt_cptd_cd':'case_solved', 'hadevelopt': 'housing_dev_name',\n",
    "                   'housing_psa':'id_housing_dev','law_cat_cd': 'ofns_level',\n",
    "                   'pd_desc': 'detail_ofns_desc', 'rpt_dt': 'notification_date', \n",
    "                   'station_name':'notification_station_name'}, inplace=True)\n",
    "\n",
    "\n",
    "\"\"\"\n",
    "df = df['district', 'crime_date', 'crime_time', 'crime_day', 'crime_month', 'notification_date', 'time_span', \n",
    "       'case_solved', 'ofns_level', 'loc_of_occur_desc', 'ofns_desc', 'parks_nm', \n",
    "       'detail_ofns_desc', 'prem_typ_desc', 'susp_age_group', 'susp_race', 'susp_sex', 'vic_age_group', \n",
    "       'vic_race', 'vic_sex', 'latitude', 'longitude', 'lat_lon', 'police_precincts', 'housing_dev_name', \n",
    "        'id_housing_dev', 'notification_station_name']\"\"\""
   ]
  },
  {
   "cell_type": "code",
   "execution_count": 7,
   "metadata": {},
   "outputs": [],
   "source": [
    "df.to_csv('clean_data.csv')"
   ]
  },
  {
   "cell_type": "code",
   "execution_count": 51,
   "metadata": {},
   "outputs": [
    {
     "name": "stdout",
     "output_type": "stream",
     "text": [
      "        District  Population\n",
      "0          Total     8550971\n",
      "1          BRONX     1446788\n",
      "2       BROOKLYN     2648452\n",
      "3      MANHATTAN     1638281\n",
      "4         QUEENS     2330295\n",
      "5  STATEN ISLAND      487155\n"
     ]
    }
   ],
   "source": [
    "#NY population by Borough\n",
    "ny_population = {\n",
    "    'District': ['Total', 'BRONX', 'BROOKLYN', 'MANHATTAN', 'QUEENS', 'STATEN ISLAND'],\n",
    "    'Population': [8550971, 1446788, 2648452, 1638281, 2330295, 487155]\n",
    "}\n",
    "ny_population = pd.DataFrame(ny_population)\n",
    "print(ny_population)\n",
    "ny_population.set_index('District', inplace=True)"
   ]
  },
  {
   "cell_type": "markdown",
   "metadata": {},
   "source": [
    "## Initial exploration and further data preparation"
   ]
  },
  {
   "cell_type": "code",
   "execution_count": 14,
   "metadata": {},
   "outputs": [
    {
     "data": {
      "text/html": [
       "<div>\n",
       "<style scoped>\n",
       "    .dataframe tbody tr th:only-of-type {\n",
       "        vertical-align: middle;\n",
       "    }\n",
       "\n",
       "    .dataframe tbody tr th {\n",
       "        vertical-align: top;\n",
       "    }\n",
       "\n",
       "    .dataframe thead th {\n",
       "        text-align: right;\n",
       "    }\n",
       "</style>\n",
       "<table border=\"1\" class=\"dataframe\">\n",
       "  <thead>\n",
       "    <tr style=\"text-align: right;\">\n",
       "      <th></th>\n",
       "      <th>police_precincts</th>\n",
       "      <th>district</th>\n",
       "      <th>crime_date</th>\n",
       "      <th>crime_time</th>\n",
       "      <th>case_solved</th>\n",
       "      <th>housing_dev_name</th>\n",
       "      <th>id_housing_dev</th>\n",
       "      <th>ofns_level</th>\n",
       "      <th>loc_of_occur_desc</th>\n",
       "      <th>ofns_desc</th>\n",
       "      <th>parks_nm</th>\n",
       "      <th>detail_ofns_desc</th>\n",
       "      <th>prem_typ_desc</th>\n",
       "      <th>notification_date</th>\n",
       "      <th>notification_station_name</th>\n",
       "      <th>susp_age_group</th>\n",
       "      <th>susp_race</th>\n",
       "      <th>susp_sex</th>\n",
       "      <th>vic_age_group</th>\n",
       "      <th>vic_race</th>\n",
       "      <th>vic_sex</th>\n",
       "      <th>latitude</th>\n",
       "      <th>longitude</th>\n",
       "      <th>lat_lon</th>\n",
       "      <th>crime_day</th>\n",
       "      <th>crime_month</th>\n",
       "    </tr>\n",
       "  </thead>\n",
       "  <tbody>\n",
       "    <tr>\n",
       "      <th>0</th>\n",
       "      <td>48</td>\n",
       "      <td>BRONX</td>\n",
       "      <td>2019-12-31</td>\n",
       "      <td>18:00:00</td>\n",
       "      <td>1</td>\n",
       "      <td>NaN</td>\n",
       "      <td>NaN</td>\n",
       "      <td>FELONY</td>\n",
       "      <td>NaN</td>\n",
       "      <td>ROBBERY</td>\n",
       "      <td>NaN</td>\n",
       "      <td>ROBBERY,PERSONAL ELECTRONIC DEVICE</td>\n",
       "      <td>STREET</td>\n",
       "      <td>2019-12-31</td>\n",
       "      <td>NaN</td>\n",
       "      <td>UNKNOWN</td>\n",
       "      <td>UNKNOWN</td>\n",
       "      <td>UNKNOWN</td>\n",
       "      <td>45-64</td>\n",
       "      <td>WHITE HISPANIC</td>\n",
       "      <td>F</td>\n",
       "      <td>40.838026</td>\n",
       "      <td>-73.881681</td>\n",
       "      <td>(40.838026269000075, -73.88168118799997)</td>\n",
       "      <td>2</td>\n",
       "      <td>12</td>\n",
       "    </tr>\n",
       "    <tr>\n",
       "      <th>1</th>\n",
       "      <td>25</td>\n",
       "      <td>MANHATTAN</td>\n",
       "      <td>2019-12-30</td>\n",
       "      <td>20:30:00</td>\n",
       "      <td>1</td>\n",
       "      <td>NaN</td>\n",
       "      <td>NaN</td>\n",
       "      <td>MISDEMEANOR</td>\n",
       "      <td>INSIDE</td>\n",
       "      <td>PETIT LARCENY</td>\n",
       "      <td>NaN</td>\n",
       "      <td>LARCENY,PETIT FROM BUILDING,UN</td>\n",
       "      <td>RESIDENCE - APT. HOUSE</td>\n",
       "      <td>2019-12-31</td>\n",
       "      <td>NaN</td>\n",
       "      <td>UNKNOWN</td>\n",
       "      <td>UNKNOWN</td>\n",
       "      <td>NaN</td>\n",
       "      <td>25-44</td>\n",
       "      <td>WHITE HISPANIC</td>\n",
       "      <td>F</td>\n",
       "      <td>40.800334</td>\n",
       "      <td>-73.945657</td>\n",
       "      <td>(40.800334261000046, -73.94565697199994)</td>\n",
       "      <td>1</td>\n",
       "      <td>12</td>\n",
       "    </tr>\n",
       "    <tr>\n",
       "      <th>2</th>\n",
       "      <td>77</td>\n",
       "      <td>BROOKLYN</td>\n",
       "      <td>2019-12-24</td>\n",
       "      <td>16:55:00</td>\n",
       "      <td>1</td>\n",
       "      <td>NaN</td>\n",
       "      <td>NaN</td>\n",
       "      <td>FELONY</td>\n",
       "      <td>NaN</td>\n",
       "      <td>FELONY ASSAULT</td>\n",
       "      <td>NaN</td>\n",
       "      <td>ASSAULT 2,1,UNCLASSIFIED</td>\n",
       "      <td>STREET</td>\n",
       "      <td>2019-12-31</td>\n",
       "      <td>NaN</td>\n",
       "      <td>UNKNOWN</td>\n",
       "      <td>BLACK</td>\n",
       "      <td>M</td>\n",
       "      <td>18-24</td>\n",
       "      <td>WHITE</td>\n",
       "      <td>M</td>\n",
       "      <td>40.669832</td>\n",
       "      <td>-73.939376</td>\n",
       "      <td>(40.66983179600004, -73.93937555099996)</td>\n",
       "      <td>2</td>\n",
       "      <td>12</td>\n",
       "    </tr>\n",
       "    <tr>\n",
       "      <th>3</th>\n",
       "      <td>52</td>\n",
       "      <td>BRONX</td>\n",
       "      <td>2019-12-30</td>\n",
       "      <td>19:32:00</td>\n",
       "      <td>1</td>\n",
       "      <td>NaN</td>\n",
       "      <td>NaN</td>\n",
       "      <td>MISDEMEANOR</td>\n",
       "      <td>INSIDE</td>\n",
       "      <td>PETIT LARCENY</td>\n",
       "      <td>NaN</td>\n",
       "      <td>LARCENY,PETIT FROM STORE-SHOPL</td>\n",
       "      <td>CHAIN STORE</td>\n",
       "      <td>2019-12-30</td>\n",
       "      <td>NaN</td>\n",
       "      <td>25-44</td>\n",
       "      <td>WHITE</td>\n",
       "      <td>F</td>\n",
       "      <td>UNKNOWN</td>\n",
       "      <td>UNKNOWN</td>\n",
       "      <td>D</td>\n",
       "      <td>40.873671</td>\n",
       "      <td>-73.908014</td>\n",
       "      <td>(40.87367103500002, -73.90801364899994)</td>\n",
       "      <td>1</td>\n",
       "      <td>12</td>\n",
       "    </tr>\n",
       "    <tr>\n",
       "      <th>4</th>\n",
       "      <td>18</td>\n",
       "      <td>MANHATTAN</td>\n",
       "      <td>2019-12-30</td>\n",
       "      <td>15:30:00</td>\n",
       "      <td>1</td>\n",
       "      <td>NaN</td>\n",
       "      <td>NaN</td>\n",
       "      <td>MISDEMEANOR</td>\n",
       "      <td>NaN</td>\n",
       "      <td>PETIT LARCENY</td>\n",
       "      <td>NaN</td>\n",
       "      <td>LARCENY,PETIT BY ACQUIRING LOS</td>\n",
       "      <td>STREET</td>\n",
       "      <td>2019-12-30</td>\n",
       "      <td>NaN</td>\n",
       "      <td>UNKNOWN</td>\n",
       "      <td>UNKNOWN</td>\n",
       "      <td>NaN</td>\n",
       "      <td>25-44</td>\n",
       "      <td>WHITE HISPANIC</td>\n",
       "      <td>M</td>\n",
       "      <td>40.760935</td>\n",
       "      <td>-73.994529</td>\n",
       "      <td>(40.76093528000007, -73.99452906599998)</td>\n",
       "      <td>1</td>\n",
       "      <td>12</td>\n",
       "    </tr>\n",
       "  </tbody>\n",
       "</table>\n",
       "</div>"
      ],
      "text/plain": [
       "   police_precincts   district  crime_date crime_time  case_solved  \\\n",
       "0                48      BRONX  2019-12-31   18:00:00            1   \n",
       "1                25  MANHATTAN  2019-12-30   20:30:00            1   \n",
       "2                77   BROOKLYN  2019-12-24   16:55:00            1   \n",
       "3                52      BRONX  2019-12-30   19:32:00            1   \n",
       "4                18  MANHATTAN  2019-12-30   15:30:00            1   \n",
       "\n",
       "  housing_dev_name  id_housing_dev   ofns_level loc_of_occur_desc  \\\n",
       "0              NaN             NaN       FELONY               NaN   \n",
       "1              NaN             NaN  MISDEMEANOR            INSIDE   \n",
       "2              NaN             NaN       FELONY               NaN   \n",
       "3              NaN             NaN  MISDEMEANOR            INSIDE   \n",
       "4              NaN             NaN  MISDEMEANOR               NaN   \n",
       "\n",
       "        ofns_desc parks_nm                    detail_ofns_desc  \\\n",
       "0         ROBBERY      NaN  ROBBERY,PERSONAL ELECTRONIC DEVICE   \n",
       "1   PETIT LARCENY      NaN      LARCENY,PETIT FROM BUILDING,UN   \n",
       "2  FELONY ASSAULT      NaN            ASSAULT 2,1,UNCLASSIFIED   \n",
       "3   PETIT LARCENY      NaN      LARCENY,PETIT FROM STORE-SHOPL   \n",
       "4   PETIT LARCENY      NaN      LARCENY,PETIT BY ACQUIRING LOS   \n",
       "\n",
       "            prem_typ_desc notification_date notification_station_name  \\\n",
       "0                  STREET        2019-12-31                       NaN   \n",
       "1  RESIDENCE - APT. HOUSE        2019-12-31                       NaN   \n",
       "2                  STREET        2019-12-31                       NaN   \n",
       "3             CHAIN STORE        2019-12-30                       NaN   \n",
       "4                  STREET        2019-12-30                       NaN   \n",
       "\n",
       "  susp_age_group susp_race susp_sex vic_age_group        vic_race vic_sex  \\\n",
       "0        UNKNOWN   UNKNOWN  UNKNOWN         45-64  WHITE HISPANIC       F   \n",
       "1        UNKNOWN   UNKNOWN      NaN         25-44  WHITE HISPANIC       F   \n",
       "2        UNKNOWN     BLACK        M         18-24           WHITE       M   \n",
       "3          25-44     WHITE        F       UNKNOWN         UNKNOWN       D   \n",
       "4        UNKNOWN   UNKNOWN      NaN         25-44  WHITE HISPANIC       M   \n",
       "\n",
       "    latitude  longitude                                   lat_lon  crime_day  \\\n",
       "0  40.838026 -73.881681  (40.838026269000075, -73.88168118799997)          2   \n",
       "1  40.800334 -73.945657  (40.800334261000046, -73.94565697199994)          1   \n",
       "2  40.669832 -73.939376   (40.66983179600004, -73.93937555099996)          2   \n",
       "3  40.873671 -73.908014   (40.87367103500002, -73.90801364899994)          1   \n",
       "4  40.760935 -73.994529   (40.76093528000007, -73.99452906599998)          1   \n",
       "\n",
       "   crime_month  \n",
       "0           12  \n",
       "1           12  \n",
       "2           12  \n",
       "3           12  \n",
       "4           12  "
      ]
     },
     "execution_count": 14,
     "metadata": {},
     "output_type": "execute_result"
    }
   ],
   "source": [
    "df.head()"
   ]
  },
  {
   "cell_type": "code",
   "execution_count": 36,
   "metadata": {},
   "outputs": [
    {
     "data": {
      "text/plain": [
       "BROOKLYN         0.287333\n",
       "MANHATTAN        0.251437\n",
       "BRONX            0.219166\n",
       "QUEENS           0.200830\n",
       "STATEN ISLAND    0.041235\n",
       "Name: district, dtype: float64"
      ]
     },
     "execution_count": 36,
     "metadata": {},
     "output_type": "execute_result"
    }
   ],
   "source": [
    "df['district'].value_counts(normalize=True)"
   ]
  },
  {
   "cell_type": "code",
   "execution_count": 69,
   "metadata": {},
   "outputs": [
    {
     "data": {
      "image/png": "[encoded data removed]",
      "text/plain": [
       "<Figure size 576x396 with 1 Axes>"
      ]
     },
     "metadata": {},
     "output_type": "display_data"
    }
   ],
   "source": [
    "# %crimes by districts \n",
    "plt.style.use('seaborn')\n",
    "\n",
    "pie_data = df['district'].value_counts(normalize=True)\n",
    "explode = [0.05, 0.05, 0.05, 0.05, 0.05]\n",
    "labels = df['district'].value_counts(normalize=True).index\n",
    "\n",
    "plt.pie(pie_data, labels=labels, explode=explode, autopct='%1.1f%%', wedgeprops={'edgecolor': 'black'})\n",
    "\n",
    "plt.title('% of crimes in 2019 by borough')\n",
    "plt.legend(loc=(0.9,0))\n",
    "\n",
    "plt.tight_layout() "
   ]
  },
  {
   "cell_type": "code",
   "execution_count": 145,
   "metadata": {},
   "outputs": [
    {
     "data": {
      "image/png": "[encoded data removed]",
      "text/plain": [
       "<Figure size 576x396 with 1 Axes>"
      ]
     },
     "metadata": {},
     "output_type": "display_data"
    }
   ],
   "source": [
    "#number of crimes by day bar plot\n",
    "bar_days = df['crime_day'].value_counts().sort_index()\n",
    "ticks=['Monday', 'Tuesday', 'Wednesday', 'Thursday', 'Friday', 'Saturdau', 'Sunday']\n",
    "num = list(range(1,8))\n",
    "\n",
    "\n",
    "plt.bar(bar_days.index, bar_days, color='purple')\n",
    "\n",
    "plt.xticks(num, ticks)\n",
    "\n",
    "plt.title('Number of Reported Crimes by Day')\n",
    "plt.xlabel('Day')\n",
    "plt.ylabel(\"Number of Reported Crimes\")\n",
    "\n",
    "plt.tight_layout() "
   ]
  },
  {
   "cell_type": "code",
   "execution_count": 129,
   "metadata": {},
   "outputs": [
    {
     "data": {
      "image/png": "[encoded data removed]",
      "text/plain": [
       "<Figure size 864x576 with 1 Axes>"
      ]
     },
     "metadata": {},
     "output_type": "display_data"
    }
   ],
   "source": [
    "#number of crimes by month - line plot\n",
    "ticks=['Jan', 'Feb', 'Mar', 'Apr', 'May', 'Jun', 'Jul', 'Aug', 'Sep', 'Oct', 'Nov', 'Dec']\n",
    "num = list(range(1,13))\n",
    "plt.figure(figsize=(12, 8))\n",
    "\n",
    "crimes_month = df['crime_month'].value_counts().sort_index()\n",
    "median = crimes_month.median()\n",
    "\n",
    "plt.plot(crimes_month.index, crimes_month, label='number of crimes', linewidth=2)\n",
    "plt.hlines(median, 1, 12, linestyle='--', label='median')\n",
    "\n",
    "plt.title('Number of Reported Crimes by Month')\n",
    "plt.xlabel('Month')\n",
    "plt.ylabel(\"Number of Reported Crimes\")\n",
    "plt.xticks(num, ticks)\n",
    "\n",
    "plt.fill_between(crimes_month.index, crimes_month,\n",
    "                median, where=(median>crimes_month),\n",
    "                interpolate=True,\n",
    "                alpha=0.25,\n",
    "                color='red',\n",
    "                label='Below median'\n",
    "                )\n",
    "\n",
    "plt.fill_between(crimes_month.index, crimes_month,\n",
    "                median, where=(median<=crimes_month),\n",
    "                interpolate=True,\n",
    "                alpha=0.25,\n",
    "                color='green',\n",
    "                label='Above median'\n",
    "                )\n",
    "\n",
    "plt.legend()\n",
    "plt.grid(0)\n",
    "#plt.plot(crimes_month.index, crimes_month)"
   ]
  },
  {
   "cell_type": "code",
   "execution_count": 152,
   "metadata": {},
   "outputs": [
    {
     "data": {
      "text/plain": [
       "Index(['police_precincts', 'district', 'crime_date', 'crime_time',\n",
       "       'case_solved', 'housing_dev_name', 'id_housing_dev', 'ofns_level',\n",
       "       'loc_of_occur_desc', 'ofns_desc', 'parks_nm', 'detail_ofns_desc',\n",
       "       'prem_typ_desc', 'notification_date', 'notification_station_name',\n",
       "       'susp_age_group', 'susp_race', 'susp_sex', 'vic_age_group', 'vic_race',\n",
       "       'vic_sex', 'latitude', 'longitude', 'lat_lon', 'crime_day',\n",
       "       'crime_month'],\n",
       "      dtype='object')"
      ]
     },
     "execution_count": 152,
     "metadata": {},
     "output_type": "execute_result"
    }
   ],
   "source": [
    "#przestepstwa na dzielnice\n",
    "df.columns\n",
    "#df['case_solved'].value_counts()"
   ]
  },
  {
   "cell_type": "code",
   "execution_count": 170,
   "metadata": {},
   "outputs": [
    {
     "data": {
      "text/plain": [
       "<matplotlib.collections.PathCollection at 0x2001ced9ba8>"
      ]
     },
     "execution_count": 170,
     "metadata": {},
     "output_type": "execute_result"
    }
   ],
   "source": [
    "#mapa przestęspstw \n",
    "%matplotlib qt\n",
    "plt.figure(figsize=(12, 8))\n",
    "lon = df['latitude']\n",
    "lat = df['longitude']\n",
    "\n",
    "plt.scatter(lat, lon, alpha=0.005)"
   ]
  },
  {
   "cell_type": "code",
   "execution_count": 172,
   "metadata": {},
   "outputs": [
    {
     "name": "stderr",
     "output_type": "stream",
     "text": [
      "Invalid requirement: 'pip''\n",
      "Traceback (most recent call last):\n",
      "  File \"C:\\Anaconda\\lib\\site-packages\\pip\\_vendor\\packaging\\requirements.py\", line 93, in __init__\n",
      "    req = REQUIREMENT.parseString(requirement_string)\n",
      "  File \"C:\\Anaconda\\lib\\site-packages\\pip\\_vendor\\pyparsing.py\", line 1632, in parseString\n",
      "    raise exc\n",
      "  File \"C:\\Anaconda\\lib\\site-packages\\pip\\_vendor\\pyparsing.py\", line 1622, in parseString\n",
      "    loc, tokens = self._parse( instring, 0 )\n",
      "  File \"C:\\Anaconda\\lib\\site-packages\\pip\\_vendor\\pyparsing.py\", line 1379, in _parseNoCache\n",
      "    loc,tokens = self.parseImpl( instring, preloc, doActions )\n",
      "  File \"C:\\Anaconda\\lib\\site-packages\\pip\\_vendor\\pyparsing.py\", line 3395, in parseImpl\n",
      "    loc, exprtokens = e._parse( instring, loc, doActions )\n",
      "  File \"C:\\Anaconda\\lib\\site-packages\\pip\\_vendor\\pyparsing.py\", line 1383, in _parseNoCache\n",
      "    loc,tokens = self.parseImpl( instring, preloc, doActions )\n",
      "  File \"C:\\Anaconda\\lib\\site-packages\\pip\\_vendor\\pyparsing.py\", line 3183, in parseImpl\n",
      "    raise ParseException(instring, loc, self.errmsg, self)\n",
      "pip._vendor.pyparsing.ParseException: Expected stringEnd (at char 3), (line:1, col:4)\n",
      "\n",
      "During handling of the above exception, another exception occurred:\n",
      "\n",
      "Traceback (most recent call last):\n",
      "  File \"C:\\Anaconda\\lib\\site-packages\\pip\\_internal\\req\\req_install.py\", line 252, in from_line\n",
      "    req = Requirement(req)\n",
      "  File \"C:\\Anaconda\\lib\\site-packages\\pip\\_vendor\\packaging\\requirements.py\", line 97, in __init__\n",
      "    requirement_string[e.loc:e.loc + 8]))\n",
      "pip._vendor.packaging.requirements.InvalidRequirement: Invalid requirement, parse error at \"\"'\"\"\n",
      "\n",
      "You are using pip version 10.0.1, however version 20.1b1 is available.\n",
      "You should consider upgrading via the 'python -m pip install --upgrade pip' command.\n"
     ]
    }
   ],
   "source": []
  },
  {
   "cell_type": "code",
   "execution_count": null,
   "metadata": {},
   "outputs": [],
   "source": []
  }
 ],
 "metadata": {
  "kernelspec": {
   "display_name": "Python 3",
   "language": "python",
   "name": "python3"
  },
  "language_info": {
   "codemirror_mode": {
    "name": "ipython",
    "version": 3
   },
   "file_extension": ".py",
   "mimetype": "text/x-python",
   "name": "python",
   "nbconvert_exporter": "python",
   "pygments_lexer": "ipython3",
   "version": "3.7.0"
  }
 },
 "nbformat": 4,
 "nbformat_minor": 2
}
